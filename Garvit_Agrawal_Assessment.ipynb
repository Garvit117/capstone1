{
 "cells": [
  {
   "cell_type": "code",
   "execution_count": 17,
   "id": "9669c98a-5d8c-47c0-a791-3c7303453eaa",
   "metadata": {},
   "outputs": [
    {
     "name": "stdin",
     "output_type": "stream",
     "text": [
      "Number of patients :  4\n",
      "Enter the height of patients(in m) : 1.5 1.75 1.63 1.71\n",
      "Enter the weight of patients(in Kg) : 56 75 62 75\n"
     ]
    },
    {
     "name": "stdout",
     "output_type": "stream",
     "text": [
      "Diabetes\n"
     ]
    }
   ],
   "source": [
    "import numpy as np\n",
    "from statistics import mean\n",
    "\n",
    "# The first line contains an integer denoting the number of patients (N) in the group\n",
    "n =int(input(\"Number of patients : \"))\n",
    "\n",
    "# Allocate three lists to store height, weight and bmi\n",
    "h=[]\n",
    "w=[]\n",
    "bmi=[]\n",
    "\n",
    "# The second line of input contains N space-separated integers denoting the values of height of each patient\n",
    "h=[float(i) for i in input(\"Enter the height of patients(in m) :\").split()]\n",
    "\n",
    "# The third line of input contains N space-separated integers denoting the values of weight of each patient.\n",
    "w=[float(i) for i in input(\"Enter the weight of patients(in Kg) :\").split()]  \n",
    "\n",
    "# Calculating bmi of each patient and storing it in bmi list\n",
    "for i in range (n):\n",
    "    bmi.append(float(w[i]/(float(h[i]**2))))\n",
    "\n",
    "# Calculating the average of all bmi values\n",
    "avg=np.mean(bmi)\n",
    "\n",
    "# Rounding off average bmi to 2 decimal places\n",
    "avg = np.around(avg,2)\n",
    "\n",
    "# Applying the given conditions for classification using if else statements\n",
    "if((22.0<=avg) & (avg<25.6)):\n",
    "    print(\"Diabetes\")\n",
    "elif((18.0<=avg) & (avg<21.9)):\n",
    "    print(\"Hypertension\")\n",
    "elif(avg>=25.6):\n",
    "    print(\"Dyslipidemia\")\n",
    "else:\n",
    "    print(\"No Category found\")"
   ]
  },
  {
   "cell_type": "code",
   "execution_count": 13,
   "id": "cf590d7e-0598-49d4-a8de-5689bd1bdab2",
   "metadata": {},
   "outputs": [
    {
     "name": "stdin",
     "output_type": "stream",
     "text": [
      "list_input values : a b c d e f g h i j k l m n o p q r s t u v w x y z\n",
      "list_pos values : 0 4 8 14 20\n"
     ]
    },
    {
     "name": "stdout",
     "output_type": "stream",
     "text": [
      "0     a\n",
      "4     e\n",
      "8     i\n",
      "14    o\n",
      "20    u\n",
      "dtype: object\n"
     ]
    }
   ],
   "source": [
    "import pandas as pd\n",
    "\n",
    "# takes a list as input - list_input\n",
    "list_input= input(\"list_input values :\").split()\n",
    "\n",
    "# takes another list as input - list_pos\n",
    "list_pos= [int(i) for i in input(\"list_pos values :\").split()]\n",
    "\n",
    "# creates a Pandas Series from list_input\n",
    "pandas_series=pd.Series(list_input)\n",
    "\n",
    "# creating a new series from the values of pandas_series \n",
    "# at positions given by list_pos with index values list_pos\n",
    "new_ser = pd.Series((pandas_series[i] for i in list_pos),index=list_pos)\n",
    "\n",
    "# prints all values of list_input which are present at \n",
    "# the positions listed out by list_pos\n",
    "print(new_ser)"
   ]
  },
  {
   "cell_type": "code",
   "execution_count": 15,
   "id": "0df751ab-30df-4fb6-8148-b36617eaa53e",
   "metadata": {},
   "outputs": [
    {
     "name": "stdin",
     "output_type": "stream",
     "text": [
      "enter the values : a b c e d f g h i j k l m n o p q r s t u v w x y z\n",
      "Enter the name for series : alphabets\n",
      "Enter n and pos : 3 1\n"
     ]
    },
    {
     "name": "stdout",
     "output_type": "stream",
     "text": [
      "0    a\n",
      "1    b\n",
      "2    c\n",
      "Name: alphabets, dtype: object\n"
     ]
    }
   ],
   "source": [
    "# takes a list as input\n",
    "l=[i for i in input(\"enter the values :\").split()]\n",
    "\n",
    "# creates a Pandas Series from the list above\n",
    "s=pd.Series(l)\n",
    "\n",
    "# takes a string as input and assigns the string as a name to the Series\n",
    "name = str(input(\"Enter the name for series :\"))\n",
    "s=s.rename(name) \n",
    "\n",
    "# takes the inputs for n & pos \n",
    "Num_row,pos=(int(i) for i in input(\"Enter n and pos :\").split())\n",
    "\n",
    "# Depending on the values of n and pos, print the first/last n rows\n",
    "# of the Series on to the STDOUT\n",
    "if(pos==1):\n",
    "    print(s[:Num_row])\n",
    "else:\n",
    "    print(s[-Num_row:])"
   ]
  }
 ],
 "metadata": {
  "kernelspec": {
   "display_name": "Python 3 (ipykernel)",
   "language": "python",
   "name": "python3"
  },
  "language_info": {
   "codemirror_mode": {
    "name": "ipython",
    "version": 3
   },
   "file_extension": ".py",
   "mimetype": "text/x-python",
   "name": "python",
   "nbconvert_exporter": "python",
   "pygments_lexer": "ipython3",
   "version": "3.12.4"
  }
 },
 "nbformat": 4,
 "nbformat_minor": 5
}

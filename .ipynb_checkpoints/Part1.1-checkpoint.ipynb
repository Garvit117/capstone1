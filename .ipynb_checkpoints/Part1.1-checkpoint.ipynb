{
 "cells": [
  {
   "cell_type": "code",
   "execution_count": 77,
   "id": "5508ae7e-7bf1-4cb0-ae4f-6d2d324cdd14",
   "metadata": {},
   "outputs": [
    {
     "name": "stdout",
     "output_type": "stream",
     "text": [
      "  policy_id  policy_tenure  age_of_car  age_of_policyholder area_cluster  \\\n",
      "0   ID00001       0.515874        0.05             0.644231           C1   \n",
      "1   ID00002       0.672619        0.02             0.375000           C2   \n",
      "2   ID00003       0.841110        0.02             0.384615           C3   \n",
      "3   ID00004       0.900277        0.11             0.432692           C4   \n",
      "4   ID00005       0.596403        0.11             0.634615           C5   \n",
      "\n",
      "   population_density  is_claim  \n",
      "0              4990.0         0  \n",
      "1             27003.0         0  \n",
      "2              4076.0         0  \n",
      "3             21622.0         0  \n",
      "4             34738.0         0  \n"
     ]
    }
   ],
   "source": [
    "import pandas as pd\n",
    "import numpy as np\n",
    "import matplotlib.pylab as plt\n",
    "plt.style.use('ggplot')\n",
    "# pd.set_option ('max_column',200)\n",
    "\n",
    "df = pd.read_csv('C:\\\\Users\\\\garviagrawal\\\\Downloads\\\\Policyfeatures.csv')\n",
    "print(df.head())"
   ]
  },
  {
   "cell_type": "code",
   "execution_count": 302,
   "id": "10ccee0a-3e45-4202-b231-fdc01d7eec81",
   "metadata": {},
   "outputs": [
    {
     "data": {
      "text/plain": [
       "(58515, 7)"
      ]
     },
     "execution_count": 302,
     "metadata": {},
     "output_type": "execute_result"
    }
   ],
   "source": [
    "df.shape"
   ]
  },
  {
   "cell_type": "code",
   "execution_count": 79,
   "id": "1e59f36e-8da4-4cf4-8457-6740df040d51",
   "metadata": {},
   "outputs": [
    {
     "data": {
      "text/plain": [
       "policy_id               object\n",
       "policy_tenure          float64\n",
       "age_of_car             float64\n",
       "age_of_policyholder    float64\n",
       "area_cluster            object\n",
       "population_density     float64\n",
       "is_claim                 int64\n",
       "dtype: object"
      ]
     },
     "execution_count": 79,
     "metadata": {},
     "output_type": "execute_result"
    }
   ],
   "source": [
    "df.dtypes"
   ]
  },
  {
   "cell_type": "code",
   "execution_count": 83,
   "id": "183aeabf-80fd-4e7f-b3d5-c009983672ed",
   "metadata": {},
   "outputs": [
    {
     "data": {
      "text/plain": [
       "policy_id               0\n",
       "policy_tenure          20\n",
       "age_of_car              5\n",
       "age_of_policyholder     7\n",
       "area_cluster            6\n",
       "population_density     12\n",
       "is_claim                0\n",
       "dtype: int64"
      ]
     },
     "execution_count": 83,
     "metadata": {},
     "output_type": "execute_result"
    }
   ],
   "source": [
    "df.isna().sum()"
   ]
  },
  {
   "cell_type": "markdown",
   "id": "09d064cc-332f-48a2-bce6-55b55c8503b7",
   "metadata": {},
   "source": [
    "# No Duplicated Rows"
   ]
  },
  {
   "cell_type": "code",
   "execution_count": 85,
   "id": "5cfe1fdb-0043-4393-b4f6-c3564d37a3e0",
   "metadata": {},
   "outputs": [
    {
     "data": {
      "text/html": [
       "<div>\n",
       "<style scoped>\n",
       "    .dataframe tbody tr th:only-of-type {\n",
       "        vertical-align: middle;\n",
       "    }\n",
       "\n",
       "    .dataframe tbody tr th {\n",
       "        vertical-align: top;\n",
       "    }\n",
       "\n",
       "    .dataframe thead th {\n",
       "        text-align: right;\n",
       "    }\n",
       "</style>\n",
       "<table border=\"1\" class=\"dataframe\">\n",
       "  <thead>\n",
       "    <tr style=\"text-align: right;\">\n",
       "      <th></th>\n",
       "      <th>policy_id</th>\n",
       "      <th>policy_tenure</th>\n",
       "      <th>age_of_car</th>\n",
       "      <th>age_of_policyholder</th>\n",
       "      <th>area_cluster</th>\n",
       "      <th>population_density</th>\n",
       "      <th>is_claim</th>\n",
       "    </tr>\n",
       "  </thead>\n",
       "  <tbody>\n",
       "  </tbody>\n",
       "</table>\n",
       "</div>"
      ],
      "text/plain": [
       "Empty DataFrame\n",
       "Columns: [policy_id, policy_tenure, age_of_car, age_of_policyholder, area_cluster, population_density, is_claim]\n",
       "Index: []"
      ]
     },
     "execution_count": 85,
     "metadata": {},
     "output_type": "execute_result"
    }
   ],
   "source": [
    "df.loc[df.duplicated()]"
   ]
  },
  {
   "cell_type": "code",
   "execution_count": 101,
   "id": "3e606b94-cae2-4df2-9be0-47ade4891dd0",
   "metadata": {},
   "outputs": [
    {
     "data": {
      "text/plain": [
       "50"
      ]
     },
     "execution_count": 101,
     "metadata": {},
     "output_type": "execute_result"
    }
   ],
   "source": [
    "df.isnull().sum().sum()"
   ]
  },
  {
   "cell_type": "markdown",
   "id": "5781240f-706a-4dda-b355-dc33ddfa176d",
   "metadata": {},
   "source": [
    "# No columns with all null values"
   ]
  },
  {
   "cell_type": "code",
   "execution_count": 113,
   "id": "0f09b2b2-461d-49f9-8a0f-3a7eb0475d56",
   "metadata": {},
   "outputs": [
    {
     "name": "stdout",
     "output_type": "stream",
     "text": [
      "(58515, 7)\n"
     ]
    }
   ],
   "source": [
    "print(df.shape)"
   ]
  },
  {
   "cell_type": "code",
   "execution_count": 123,
   "id": "ab017ddd-b5d6-4c7f-b9bd-aabced7e78e3",
   "metadata": {},
   "outputs": [],
   "source": [
    "df2=df.dropna(how=\"all\")"
   ]
  },
  {
   "cell_type": "code",
   "execution_count": 125,
   "id": "d07dcaaf-5787-4d2a-bc92-687554e47cc1",
   "metadata": {},
   "outputs": [
    {
     "data": {
      "text/plain": [
       "(58515, 7)"
      ]
     },
     "execution_count": 125,
     "metadata": {},
     "output_type": "execute_result"
    }
   ],
   "source": [
    "df2.shape"
   ]
  },
  {
   "cell_type": "code",
   "execution_count": 127,
   "id": "75531ef1-5535-4a7a-ae5f-146c5b8b8295",
   "metadata": {},
   "outputs": [],
   "source": [
    "df2 =df.fillna(value=0)"
   ]
  },
  {
   "cell_type": "markdown",
   "id": "4e5e386b-6c01-4a8d-9b0e-e388e3f30085",
   "metadata": {},
   "source": [
    "# Outliers"
   ]
  },
  {
   "cell_type": "code",
   "execution_count": 276,
   "id": "80254483-8c89-4b95-b7ef-a50721814ad6",
   "metadata": {},
   "outputs": [],
   "source": [
    "def three_standard_deviation(x):\n",
    "    xll = x.mean() -3*x.std()\n",
    "    print(\"Lower limit :\",xll)\n",
    "    xul = x.mean() +3*x.std()\n",
    "    print(\"Upper limit :\",xul)\n",
    "    print(\"Minimum :\",x.min())\n",
    "    print(\"Maximum :\",x.max())\n",
    "    return xll,xul"
   ]
  },
  {
   "cell_type": "code",
   "execution_count": 278,
   "id": "cb7bcad1-3493-4bbb-a037-b4a039462203",
   "metadata": {},
   "outputs": [
    {
     "name": "stdout",
     "output_type": "stream",
     "text": [
      "Lower limit : -0.631101294146168\n",
      "Upper limit : 1.853451254947228\n",
      "Minimum : 0.002735273\n",
      "Maximum : 1.396641077\n"
     ]
    }
   ],
   "source": [
    "lpolicy_tenure, upolicy_tenure = three_standard_deviation(df.policy_tenure)"
   ]
  },
  {
   "cell_type": "markdown",
   "id": "4163fa28-c493-43d9-b4da-9402134dc335",
   "metadata": {},
   "source": [
    "No outliers in policy_tenure"
   ]
  },
  {
   "cell_type": "code",
   "execution_count": 282,
   "id": "f4d88d76-81b7-46de-bdb5-842335e4f6ef",
   "metadata": {},
   "outputs": [
    {
     "name": "stdout",
     "output_type": "stream",
     "text": [
      "Lower limit : -0.10076528452979286\n",
      "Upper limit : 0.23959180991006976\n",
      "Minimum : 0.0\n",
      "Maximum : 1.0\n"
     ]
    }
   ],
   "source": [
    "lage_of_car,uage_of_car=three_standard_deviation(df.age_of_car)"
   ]
  },
  {
   "cell_type": "markdown",
   "id": "26ed7aba-473e-4a36-9b23-5a547f3069e3",
   "metadata": {},
   "source": [
    "Outliers present in age_of_car"
   ]
  },
  {
   "cell_type": "code",
   "execution_count": 286,
   "id": "4898609f-790e-4234-8fb4-ed7c69ac9cf2",
   "metadata": {},
   "outputs": [
    {
     "name": "stdout",
     "output_type": "stream",
     "text": [
      "Lower limit : 0.10071966237232138\n",
      "Upper limit : 0.8381269647720351\n",
      "Minimum : 0.288461538\n",
      "Maximum : 1.0\n"
     ]
    }
   ],
   "source": [
    "lage_of_policyholder,uage_of_policyholder=three_standard_deviation(df.age_of_policyholder)"
   ]
  },
  {
   "cell_type": "markdown",
   "id": "7fb1f892-adfd-4cde-a700-03fb258974f8",
   "metadata": {},
   "source": [
    "outliers present in age_of_policyholder"
   ]
  },
  {
   "cell_type": "code",
   "execution_count": 308,
   "id": "b8382dc3-b0e4-4fff-bc8a-19f0f195118d",
   "metadata": {},
   "outputs": [
    {
     "name": "stdout",
     "output_type": "stream",
     "text": [
      "Lower limit : -34154.60943806999\n",
      "Upper limit : 71811.7290729605\n",
      "Minimum : 290.0\n",
      "Maximum : 73430.0\n"
     ]
    }
   ],
   "source": [
    "lpopulation_density,upopulation_density=three_standard_deviation(df.population_density)"
   ]
  },
  {
   "cell_type": "markdown",
   "id": "6c39db74-8295-4f3c-8e50-cd2e64507b4f",
   "metadata": {},
   "source": [
    "outliers present in population_density"
   ]
  },
  {
   "cell_type": "code",
   "execution_count": null,
   "id": "8fc88e26-ef71-4c7f-9705-0a7f51c8d322",
   "metadata": {},
   "outputs": [],
   "source": [
    "Convert area_cluster to integers"
   ]
  },
  {
   "cell_type": "code",
   "execution_count": 263,
   "id": "abe7f0fb-0e16-4ce9-8991-a0805bec2119",
   "metadata": {},
   "outputs": [],
   "source": [
    "df.area_cluster=pd.to_numeric(df.area_cluster.str.strip('C'))"
   ]
  },
  {
   "cell_type": "code",
   "execution_count": 269,
   "id": "22b0ac56-0299-4ea2-b7f3-51406cd767fc",
   "metadata": {},
   "outputs": [
    {
     "data": {
      "text/plain": [
       "policy_id               object\n",
       "policy_tenure          float64\n",
       "age_of_car             float64\n",
       "age_of_policyholder    float64\n",
       "area_cluster           float64\n",
       "population_density     float64\n",
       "is_claim                 int64\n",
       "dtype: object"
      ]
     },
     "execution_count": 269,
     "metadata": {},
     "output_type": "execute_result"
    }
   ],
   "source": [
    "df.dtype"
   ]
  },
  {
   "cell_type": "code",
   "execution_count": 310,
   "id": "589fa0c1-5d84-4943-8ca5-aa3551a7ecb5",
   "metadata": {},
   "outputs": [
    {
     "name": "stdout",
     "output_type": "stream",
     "text": [
      "Lower limit : -5.869774185496797\n",
      "Upper limit : 21.21336235141999\n",
      "Minimum : 1.0\n",
      "Maximum : 22.0\n"
     ]
    }
   ],
   "source": [
    "larea_cluster,uarea_cluster=three_standard_deviation(df.area_cluster)"
   ]
  },
  {
   "cell_type": "markdown",
   "id": "73f79ed2-fe57-4050-8e29-aa00d4011c07",
   "metadata": {},
   "source": [
    "No outliers in area_cluster"
   ]
  },
  {
   "cell_type": "code",
   "execution_count": 312,
   "id": "70c577be-8ca0-474d-aef9-19b4e7088a2b",
   "metadata": {},
   "outputs": [
    {
     "data": {
      "text/plain": [
       "(54918, 7)"
      ]
     },
     "execution_count": 312,
     "metadata": {},
     "output_type": "execute_result"
    }
   ],
   "source": [
    "cdf=df.copy()\n",
    "cdf = cdf[(cdf.age_of_car>lage_of_car) & (cdf.age_of_car<uage_of_car)]\n",
    "cdf = cdf[(cdf.age_of_policyholder>lage_of_policyholder) & (cdf.age_of_policyholder<uage_of_policyholder)]\n",
    "cdf = cdf[(cdf.population_density>lpopulation_density) & (cdf.population_density<upopulation_density)]\n",
    "cdf.shape\n"
   ]
  },
  {
   "cell_type": "code",
   "execution_count": 332,
   "id": "5045b495-938f-400f-ae69-a9d22c69cd43",
   "metadata": {},
   "outputs": [
    {
     "data": {
      "text/html": [
       "<div>\n",
       "<style scoped>\n",
       "    .dataframe tbody tr th:only-of-type {\n",
       "        vertical-align: middle;\n",
       "    }\n",
       "\n",
       "    .dataframe tbody tr th {\n",
       "        vertical-align: top;\n",
       "    }\n",
       "\n",
       "    .dataframe thead th {\n",
       "        text-align: right;\n",
       "    }\n",
       "</style>\n",
       "<table border=\"1\" class=\"dataframe\">\n",
       "  <thead>\n",
       "    <tr style=\"text-align: right;\">\n",
       "      <th></th>\n",
       "      <th>policy_tenure</th>\n",
       "      <th>age_of_car</th>\n",
       "      <th>age_of_policyholder</th>\n",
       "      <th>area_cluster</th>\n",
       "      <th>population_density</th>\n",
       "      <th>is_claim</th>\n",
       "    </tr>\n",
       "  </thead>\n",
       "  <tbody>\n",
       "    <tr>\n",
       "      <th>count</th>\n",
       "      <td>54903.000000</td>\n",
       "      <td>54918.000000</td>\n",
       "      <td>54918.000000</td>\n",
       "      <td>54918.000000</td>\n",
       "      <td>54918.000000</td>\n",
       "      <td>54918.000000</td>\n",
       "    </tr>\n",
       "    <tr>\n",
       "      <th>mean</th>\n",
       "      <td>0.617841</td>\n",
       "      <td>0.068634</td>\n",
       "      <td>0.468261</td>\n",
       "      <td>7.533832</td>\n",
       "      <td>15735.548818</td>\n",
       "      <td>0.065042</td>\n",
       "    </tr>\n",
       "    <tr>\n",
       "      <th>std</th>\n",
       "      <td>0.414831</td>\n",
       "      <td>0.053770</td>\n",
       "      <td>0.121702</td>\n",
       "      <td>4.609651</td>\n",
       "      <td>12270.046379</td>\n",
       "      <td>0.246603</td>\n",
       "    </tr>\n",
       "    <tr>\n",
       "      <th>min</th>\n",
       "      <td>0.002735</td>\n",
       "      <td>0.000000</td>\n",
       "      <td>0.288462</td>\n",
       "      <td>1.000000</td>\n",
       "      <td>290.000000</td>\n",
       "      <td>0.000000</td>\n",
       "    </tr>\n",
       "    <tr>\n",
       "      <th>25%</th>\n",
       "      <td>0.215268</td>\n",
       "      <td>0.020000</td>\n",
       "      <td>0.365385</td>\n",
       "      <td>3.000000</td>\n",
       "      <td>6112.000000</td>\n",
       "      <td>0.000000</td>\n",
       "    </tr>\n",
       "    <tr>\n",
       "      <th>50%</th>\n",
       "      <td>0.584168</td>\n",
       "      <td>0.060000</td>\n",
       "      <td>0.451923</td>\n",
       "      <td>8.000000</td>\n",
       "      <td>8794.000000</td>\n",
       "      <td>0.000000</td>\n",
       "    </tr>\n",
       "    <tr>\n",
       "      <th>75%</th>\n",
       "      <td>1.043744</td>\n",
       "      <td>0.110000</td>\n",
       "      <td>0.548077</td>\n",
       "      <td>9.000000</td>\n",
       "      <td>27003.000000</td>\n",
       "      <td>0.000000</td>\n",
       "    </tr>\n",
       "    <tr>\n",
       "      <th>max</th>\n",
       "      <td>1.396641</td>\n",
       "      <td>0.230000</td>\n",
       "      <td>0.836538</td>\n",
       "      <td>22.000000</td>\n",
       "      <td>65567.000000</td>\n",
       "      <td>1.000000</td>\n",
       "    </tr>\n",
       "  </tbody>\n",
       "</table>\n",
       "</div>"
      ],
      "text/plain": [
       "       policy_tenure    age_of_car  age_of_policyholder  area_cluster  \\\n",
       "count   54903.000000  54918.000000         54918.000000  54918.000000   \n",
       "mean        0.617841      0.068634             0.468261      7.533832   \n",
       "std         0.414831      0.053770             0.121702      4.609651   \n",
       "min         0.002735      0.000000             0.288462      1.000000   \n",
       "25%         0.215268      0.020000             0.365385      3.000000   \n",
       "50%         0.584168      0.060000             0.451923      8.000000   \n",
       "75%         1.043744      0.110000             0.548077      9.000000   \n",
       "max         1.396641      0.230000             0.836538     22.000000   \n",
       "\n",
       "       population_density      is_claim  \n",
       "count        54918.000000  54918.000000  \n",
       "mean         15735.548818      0.065042  \n",
       "std          12270.046379      0.246603  \n",
       "min            290.000000      0.000000  \n",
       "25%           6112.000000      0.000000  \n",
       "50%           8794.000000      0.000000  \n",
       "75%          27003.000000      0.000000  \n",
       "max          65567.000000      1.000000  "
      ]
     },
     "execution_count": 332,
     "metadata": {},
     "output_type": "execute_result"
    }
   ],
   "source": [
    "cdf.describe()"
   ]
  },
  {
   "cell_type": "code",
   "execution_count": 352,
   "id": "3b47e5c3-0025-4f59-bedf-93ae0f9f4f34",
   "metadata": {},
   "outputs": [],
   "source": [
    "claim_df = cdf[cdf['is_claim']==1]\n",
    "no_claim_df = cdf[cdf['is_claim']==0]"
   ]
  },
  {
   "cell_type": "code",
   "execution_count": 356,
   "id": "ec7a2b95-b612-4dd8-b89c-944c2d49aaaf",
   "metadata": {},
   "outputs": [
    {
     "data": {
      "text/html": [
       "<div>\n",
       "<style scoped>\n",
       "    .dataframe tbody tr th:only-of-type {\n",
       "        vertical-align: middle;\n",
       "    }\n",
       "\n",
       "    .dataframe tbody tr th {\n",
       "        vertical-align: top;\n",
       "    }\n",
       "\n",
       "    .dataframe thead th {\n",
       "        text-align: right;\n",
       "    }\n",
       "</style>\n",
       "<table border=\"1\" class=\"dataframe\">\n",
       "  <thead>\n",
       "    <tr style=\"text-align: right;\">\n",
       "      <th></th>\n",
       "      <th>policy_tenure</th>\n",
       "      <th>age_of_car</th>\n",
       "      <th>age_of_policyholder</th>\n",
       "      <th>area_cluster</th>\n",
       "      <th>population_density</th>\n",
       "      <th>is_claim</th>\n",
       "    </tr>\n",
       "  </thead>\n",
       "  <tbody>\n",
       "    <tr>\n",
       "      <th>count</th>\n",
       "      <td>3572.000000</td>\n",
       "      <td>3572.000000</td>\n",
       "      <td>3572.000000</td>\n",
       "      <td>3572.000000</td>\n",
       "      <td>3572.000000</td>\n",
       "      <td>3572.0</td>\n",
       "    </tr>\n",
       "    <tr>\n",
       "      <th>mean</th>\n",
       "      <td>0.743040</td>\n",
       "      <td>0.063634</td>\n",
       "      <td>0.478244</td>\n",
       "      <td>7.507559</td>\n",
       "      <td>15341.064110</td>\n",
       "      <td>1.0</td>\n",
       "    </tr>\n",
       "    <tr>\n",
       "      <th>std</th>\n",
       "      <td>0.387451</td>\n",
       "      <td>0.051789</td>\n",
       "      <td>0.123991</td>\n",
       "      <td>4.698850</td>\n",
       "      <td>11735.634476</td>\n",
       "      <td>0.0</td>\n",
       "    </tr>\n",
       "    <tr>\n",
       "      <th>min</th>\n",
       "      <td>0.002850</td>\n",
       "      <td>0.000000</td>\n",
       "      <td>0.288462</td>\n",
       "      <td>1.000000</td>\n",
       "      <td>290.000000</td>\n",
       "      <td>1.0</td>\n",
       "    </tr>\n",
       "    <tr>\n",
       "      <th>25%</th>\n",
       "      <td>0.415010</td>\n",
       "      <td>0.020000</td>\n",
       "      <td>0.384615</td>\n",
       "      <td>3.000000</td>\n",
       "      <td>6112.000000</td>\n",
       "      <td>1.0</td>\n",
       "    </tr>\n",
       "    <tr>\n",
       "      <th>50%</th>\n",
       "      <td>0.843803</td>\n",
       "      <td>0.050000</td>\n",
       "      <td>0.461538</td>\n",
       "      <td>8.000000</td>\n",
       "      <td>8794.000000</td>\n",
       "      <td>1.0</td>\n",
       "    </tr>\n",
       "    <tr>\n",
       "      <th>75%</th>\n",
       "      <td>1.086746</td>\n",
       "      <td>0.100000</td>\n",
       "      <td>0.548077</td>\n",
       "      <td>9.000000</td>\n",
       "      <td>27003.000000</td>\n",
       "      <td>1.0</td>\n",
       "    </tr>\n",
       "    <tr>\n",
       "      <th>max</th>\n",
       "      <td>1.335945</td>\n",
       "      <td>0.230000</td>\n",
       "      <td>0.836538</td>\n",
       "      <td>22.000000</td>\n",
       "      <td>65567.000000</td>\n",
       "      <td>1.0</td>\n",
       "    </tr>\n",
       "  </tbody>\n",
       "</table>\n",
       "</div>"
      ],
      "text/plain": [
       "       policy_tenure   age_of_car  age_of_policyholder  area_cluster  \\\n",
       "count    3572.000000  3572.000000          3572.000000   3572.000000   \n",
       "mean        0.743040     0.063634             0.478244      7.507559   \n",
       "std         0.387451     0.051789             0.123991      4.698850   \n",
       "min         0.002850     0.000000             0.288462      1.000000   \n",
       "25%         0.415010     0.020000             0.384615      3.000000   \n",
       "50%         0.843803     0.050000             0.461538      8.000000   \n",
       "75%         1.086746     0.100000             0.548077      9.000000   \n",
       "max         1.335945     0.230000             0.836538     22.000000   \n",
       "\n",
       "       population_density  is_claim  \n",
       "count         3572.000000    3572.0  \n",
       "mean         15341.064110       1.0  \n",
       "std          11735.634476       0.0  \n",
       "min            290.000000       1.0  \n",
       "25%           6112.000000       1.0  \n",
       "50%           8794.000000       1.0  \n",
       "75%          27003.000000       1.0  \n",
       "max          65567.000000       1.0  "
      ]
     },
     "execution_count": 356,
     "metadata": {},
     "output_type": "execute_result"
    }
   ],
   "source": [
    "claim_df.describe()"
   ]
  },
  {
   "cell_type": "code",
   "execution_count": 328,
   "id": "ea60d18d-aabf-4091-a38b-4e5107953fb8",
   "metadata": {},
   "outputs": [
    {
     "data": {
      "text/plain": [
       "Text(0, 0.5, 'Frequrncy')"
      ]
     },
     "execution_count": 328,
     "metadata": {},
     "output_type": "execute_result"
    },
    {
     "data": {
      "image/png": "[encoded data removed]",
      "text/plain": [
       "<Figure size 1200x600 with 1 Axes>"
      ]
     },
     "metadata": {},
     "output_type": "display_data"
    }
   ],
   "source": [
    "plt.figure(figsize=(12,6))\n",
    "plt.subplot(1,3,1)\n",
    "plt.hist(cdf['age_of_car'],bins=20,edgecolor='black')\n",
    "plt.title('Age of car - all data')\n",
    "plt.xlabel('Age of car')\n",
    "plt.ylabel('Frequrncy')"
   ]
  },
  {
   "cell_type": "code",
   "execution_count": 330,
   "id": "0cabadac-0436-478f-bf3e-505cd975b283",
   "metadata": {},
   "outputs": [
    {
     "data": {
      "text/plain": [
       "Text(0, 0.5, 'Frequrncy')"
      ]
     },
     "execution_count": 330,
     "metadata": {},
     "output_type": "execute_result"
    },
    {
     "data": {
      "image/png": "[encoded data removed]",
      "text/plain": [
       "<Figure size 640x480 with 1 Axes>"
      ]
     },
     "metadata": {},
     "output_type": "display_data"
    }
   ],
   "source": [
    "plt.subplot(1,3,2)\n",
    "plt.hist(claim_df['age_of_car'],bins=20,edgecolor='black')\n",
    "plt.title('Age of car - With claim')\n",
    "plt.xlabel('Age of car')\n",
    "plt.ylabel('Frequrncy')"
   ]
  },
  {
   "cell_type": "code",
   "execution_count": 334,
   "id": "3fcec7e7-2ae6-4768-b7b0-e1496108a6b5",
   "metadata": {},
   "outputs": [
    {
     "data": {
      "text/plain": [
       "Text(0, 0.5, 'Frequrncy')"
      ]
     },
     "execution_count": 334,
     "metadata": {},
     "output_type": "execute_result"
    },
    {
     "data": {
      "image/png": "[encoded data removed]",
      "text/plain": [
       "<Figure size 640x480 with 1 Axes>"
      ]
     },
     "metadata": {},
     "output_type": "display_data"
    }
   ],
   "source": [
    "plt.subplot(1,3,2)\n",
    "plt.hist(no_claim_df['age_of_car'],bins=20,edgecolor='black')\n",
    "plt.title('Age of car - With claim')\n",
    "plt.xlabel('Age of car')\n",
    "plt.ylabel('Frequrncy')"
   ]
  }
 ],
 "metadata": {
  "kernelspec": {
   "display_name": "Python 3 (ipykernel)",
   "language": "python",
   "name": "python3"
  },
  "language_info": {
   "codemirror_mode": {
    "name": "ipython",
    "version": 3
   },
   "file_extension": ".py",
   "mimetype": "text/x-python",
   "name": "python",
   "nbconvert_exporter": "python",
   "pygments_lexer": "ipython3",
   "version": "3.12.4"
  }
 },
 "nbformat": 4,
 "nbformat_minor": 5
}
